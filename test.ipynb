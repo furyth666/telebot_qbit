{
 "cells": [
  {
   "cell_type": "code",
   "execution_count": 9,
   "metadata": {},
   "outputs": [],
   "source": [
    "import qbittorrentapi\n",
    "import json\n",
    "\n",
    "# Connect to the Web UI\n",
    "conn_info = dict(\n",
    "    host=\"192.168.50.17\",\n",
    "    port=8080,\n",
    "    username=\"admin\",\n",
    "    password=\"Hw973210\",\n",
    ")\n",
    "\n",
    "qbt_client = qbittorrentapi.Client(**conn_info)\n",
    "\n",
    "try:\n",
    "    qbt_client.auth_log_in()\n",
    "except qbittorrentapi.LoginFailed as e:\n",
    "    print(e)"
   ]
  },
  {
   "cell_type": "code",
   "execution_count": 10,
   "metadata": {},
   "outputs": [
    {
     "name": "stdout",
     "output_type": "stream",
     "text": [
      "[javdb.com]ADN-451-C.torrent\n"
     ]
    }
   ],
   "source": [
    "#find the newest torrent\n",
    "newest_torrent = None\n",
    "for torrent in qbt_client.torrents_info():\n",
    "    if newest_torrent is None or torrent.added_on > newest_torrent.added_on:\n",
    "        newest_torrent = torrent\n",
    "\n",
    "print(newest_torrent.name)"
   ]
  },
  {
   "cell_type": "code",
   "execution_count": 11,
   "metadata": {},
   "outputs": [],
   "source": [
    "#save the connection info to the qit.json file\n",
    "with open('qbit.json', 'w') as f:\n",
    "    json.dump(conn_info, f)"
   ]
  }
 ],
 "metadata": {
  "kernelspec": {
   "display_name": "telebot",
   "language": "python",
   "name": "python3"
  },
  "language_info": {
   "codemirror_mode": {
    "name": "ipython",
    "version": 3
   },
   "file_extension": ".py",
   "mimetype": "text/x-python",
   "name": "python",
   "nbconvert_exporter": "python",
   "pygments_lexer": "ipython3",
   "version": "3.9.18"
  }
 },
 "nbformat": 4,
 "nbformat_minor": 2
}
